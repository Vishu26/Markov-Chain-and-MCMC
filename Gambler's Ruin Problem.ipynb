{
 "cells": [
  {
   "cell_type": "markdown",
   "metadata": {},
   "source": [
    "# Gambler’s Ruin Problem\n",
    "\n",
    "Consider a gambler who starts with an initial fortune of \\$ 1 and then on each successive gamble either wins \\$ 1 or loses \\$ 1 independent of the past with probabilities p and q = 1−p respectively. Let Rn denote the total fortune after the nth gamble. The gambler’s objective is to reach a total fortune of \\$ N, without first getting ruined (running out of money). If the gambler succeeds, then the gambler is said to win the game. In any case, the gambler stops playing after winning or getting ruined, whichever happens first. There is nothing special about starting with \\$ 1, more generally the gambler starts with $i where 0 < i < N."
   ]
  },
  {
   "cell_type": "code",
   "execution_count": 1,
   "metadata": {},
   "outputs": [],
   "source": [
    "p = 0.4 # probability of winning\n",
    "q = 0.6 # probability of losing\n",
    "N = 5 # end state"
   ]
  },
  {
   "cell_type": "code",
   "execution_count": 2,
   "metadata": {},
   "outputs": [],
   "source": [
    "# Form the transition matrix\n",
    "\n",
    "import numpy as np\n",
    "\n",
    "P = np.array([[1, 0, 0, 0, 0, 0],\n",
    "                     [0.6, 0, 0.4, 0, 0, 0],\n",
    "                     [0, 0.6, 0, 0.4, 0, 0],\n",
    "                     [0, 0, 0.6, 0, 0.4, 0],\n",
    "                     [0, 0, 0, 0.6, 0, 0.4],\n",
    "                     [0, 0, 0, 0, 0, 1]])"
   ]
  },
  {
   "cell_type": "markdown",
   "metadata": {},
   "source": [
    "\\begin{bmatrix}\n",
    "    1 & 0 & 0 & 0 & 0 & 0 \\\\\n",
    "    0.6 & 0 & 0.4 & 0 & 0 & 0 \\\\\n",
    "    0 & 0.6 & 0 & 0.4 & 0 & 0 \\\\\n",
    "    0 & 0 & 0.6 & 0 & 0.4 & 0 \\\\\n",
    "    0 & 0 & 0 & 0.6 & 0 & 0.4 \\\\\n",
    "    0 & 0 & 0 & 0 & 0 & 1\n",
    "\\end{bmatrix}"
   ]
  },
  {
   "cell_type": "markdown",
   "metadata": {},
   "source": [
    "## Solve\n",
    "$$V(P-I) = 0$$"
   ]
  },
  {
   "cell_type": "markdown",
   "metadata": {},
   "source": [
    "## Let\n",
    "$$V = [a, b, c, d, e, f]$$"
   ]
  },
  {
   "cell_type": "markdown",
   "metadata": {},
   "source": [
    "$$P-I = \\begin{bmatrix}\n",
    "    0 & 0 & 0 & 0 & 0 & 0 \\\\\n",
    "    0.6 & -1 & 0.4 & 0 & 0 & 0 \\\\\n",
    "    0 & 0.6 & -1 & 0.4 & 0 & 0 \\\\\n",
    "    0 & 0 & 0.6 & -1 & 0.4 & 0 \\\\\n",
    "    0 & 0 & 0 & 0.6 & -1 & 0.4 \\\\\n",
    "    0 & 0 & 0 & 0 & 0 & 0\n",
    "\\end{bmatrix} $$"
   ]
  },
  {
   "cell_type": "markdown",
   "metadata": {},
   "source": [
    "## Set of equations\n",
    "\n",
    "$$\\rightarrow a+b+c+d+e+f=1$$"
   ]
  },
  {
   "cell_type": "markdown",
   "metadata": {},
   "source": [
    "$$\\rightarrow b*0.6=0$$"
   ]
  },
  {
   "cell_type": "markdown",
   "metadata": {},
   "source": [
    "$$\\rightarrow b*-1 + c*0.6=0$$"
   ]
  },
  {
   "cell_type": "markdown",
   "metadata": {},
   "source": [
    "$$\\rightarrow b*0.4 + c*-1 + d*0.6=0$$"
   ]
  },
  {
   "cell_type": "markdown",
   "metadata": {},
   "source": [
    "$$\\rightarrow c*0.4 + d*-1 + e*0.6=0$$"
   ]
  },
  {
   "cell_type": "markdown",
   "metadata": {},
   "source": [
    "$$\\rightarrow d*0.4 + e*-1 =0$$"
   ]
  },
  {
   "cell_type": "markdown",
   "metadata": {},
   "source": [
    "$$\\rightarrow e*0.4=0$$"
   ]
  },
  {
   "cell_type": "markdown",
   "metadata": {},
   "source": [
    "# Solutions\n",
    "$$ a = x$$"
   ]
  },
  {
   "cell_type": "markdown",
   "metadata": {},
   "source": [
    "$$ b = c = d = e = 0$$"
   ]
  },
  {
   "cell_type": "markdown",
   "metadata": {},
   "source": [
    "$$ f = 1 - x$$"
   ]
  },
  {
   "cell_type": "markdown",
   "metadata": {},
   "source": [
    "$$ V = [x, 0, 0, 0, 0, 1-x]$$"
   ]
  },
  {
   "cell_type": "markdown",
   "metadata": {},
   "source": [
    "## Steady state vector V tells that probability of being in intermediate states is zero after large number of trials."
   ]
  },
  {
   "cell_type": "markdown",
   "metadata": {},
   "source": [
    "# Case 1\n",
    "\n",
    "Let us start with \\$ 2 initially.\n",
    "Initial state vector:\n",
    "$$ V = [0, 0, 1, 0, 0, 0]$$"
   ]
  },
  {
   "cell_type": "markdown",
   "metadata": {},
   "source": [
    "$$ VP^{10000} = [0 0 1 0 0 0]\\begin{bmatrix}\n",
    "    1 & 0 & 0 & 0 & 0 & 0 \\\\\n",
    "    0.6 & 0 & 0.4 & 0 & 0 & 0 \\\\\n",
    "    0 & 0.6 & 0 & 0.4 & 0 & 0 \\\\\n",
    "    0 & 0 & 0.6 & 0 & 0.4 & 0 \\\\\n",
    "    0 & 0 & 0 & 0.6 & 0 & 0.4 \\\\\n",
    "    0 & 0 & 0 & 0 & 0 & 1\n",
    "\\end{bmatrix}^{10000} $$"
   ]
  },
  {
   "cell_type": "code",
   "execution_count": 3,
   "metadata": {},
   "outputs": [
    {
     "data": {
      "text/plain": [
       "array([0.81042654, 0.        , 0.        , 0.        , 0.        ,\n",
       "       0.18957346])"
      ]
     },
     "execution_count": 3,
     "metadata": {},
     "output_type": "execute_result"
    }
   ],
   "source": [
    "np.array([0, 0, 1, 0, 0, 0]).dot(np.linalg.matrix_power(P, 10000))"
   ]
  },
  {
   "cell_type": "markdown",
   "metadata": {},
   "source": [
    "$$ VP^{10000} = [0.81042654, 0       , 0        , 0     , 0  ,0.18957346]$$"
   ]
  },
  {
   "cell_type": "markdown",
   "metadata": {},
   "source": [
    "## So, if we start with $2, the probability of losing all money is 0.8105 and probability of winning is 0.1896 after large number of trials."
   ]
  },
  {
   "cell_type": "markdown",
   "metadata": {},
   "source": [
    "# Case 2\n",
    "\n",
    "Let us start with \\$ 4 initially.\n",
    "Initial state vector:\n",
    "$$ V = [0, 0, 0, 0, 1, 0]$$"
   ]
  },
  {
   "cell_type": "markdown",
   "metadata": {},
   "source": [
    "$$ VP^{10000} = [0 0 0 0 1 0]\\begin{bmatrix}\n",
    "    1 & 0 & 0 & 0 & 0 & 0 \\\\\n",
    "    0.6 & 0 & 0.4 & 0 & 0 & 0 \\\\\n",
    "    0 & 0.6 & 0 & 0.4 & 0 & 0 \\\\\n",
    "    0 & 0 & 0.6 & 0 & 0.4 & 0 \\\\\n",
    "    0 & 0 & 0 & 0.6 & 0 & 0.4 \\\\\n",
    "    0 & 0 & 0 & 0 & 0 & 1\n",
    "\\end{bmatrix}^{10000} $$"
   ]
  },
  {
   "cell_type": "code",
   "execution_count": 4,
   "metadata": {},
   "outputs": [
    {
     "data": {
      "text/plain": [
       "array([0.38388626, 0.        , 0.        , 0.        , 0.        ,\n",
       "       0.61611374])"
      ]
     },
     "execution_count": 4,
     "metadata": {},
     "output_type": "execute_result"
    }
   ],
   "source": [
    "np.array([0, 0, 0, 0, 1, 0]).dot(np.linalg.matrix_power(P, 10000))"
   ]
  },
  {
   "cell_type": "markdown",
   "metadata": {},
   "source": [
    "$$ VP^{10000} = [0.38388626, 0      , 0      , 0       , 0        ,0.61611374]$$"
   ]
  },
  {
   "cell_type": "markdown",
   "metadata": {},
   "source": [
    "## So, if we start with $4, the probability of losing all money is 0.3839 and probability of winning is 0.6162 after large number of trials."
   ]
  },
  {
   "cell_type": "code",
   "execution_count": null,
   "metadata": {},
   "outputs": [],
   "source": []
  }
 ],
 "metadata": {
  "kernelspec": {
   "display_name": "Python 3",
   "language": "python",
   "name": "python3"
  },
  "language_info": {
   "codemirror_mode": {
    "name": "ipython",
    "version": 3
   },
   "file_extension": ".py",
   "mimetype": "text/x-python",
   "name": "python",
   "nbconvert_exporter": "python",
   "pygments_lexer": "ipython3",
   "version": "3.6.1"
  }
 },
 "nbformat": 4,
 "nbformat_minor": 2
}
